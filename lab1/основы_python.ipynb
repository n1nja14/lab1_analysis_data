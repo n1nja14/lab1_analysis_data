{
 "cells": [
  {
   "cell_type": "markdown",
   "metadata": {
    "id": "M-DGa20PaHnu"
   },
   "source": [
    "# Задача 1\n",
    "Написать функцию на вход которой подается строка, состоящая из латинских букв.\n",
    "Функция должна вернуть количество гласных букв (a, e, i, o, u) в этой строке. Написать тесты для кода"
   ]
  },
  {
   "cell_type": "code",
   "execution_count": 2,
   "metadata": {
    "id": "XvX8X_JJ6PCb"
   },
   "outputs": [
    {
     "name": "stdout",
     "output_type": "stream",
     "text": [
      "2\n",
      "3\n"
     ]
    }
   ],
   "source": [
    "def count_(s: str) -> int:\n",
    "    word = 'aeiou'\n",
    "    c = 0\n",
    "    for i in s:\n",
    "        if i in word:\n",
    "            c += 1\n",
    "    return c\n",
    "print(count_('java'))\n",
    "print(count_('oidfosd'))"
   ]
  },
  {
   "cell_type": "markdown",
   "metadata": {
    "id": "t2ClV_Y0bbr6"
   },
   "source": [
    "# Задача 2\n",
    "Написать функцию на вход, которой подается строка. Функция должна вернуть true, если\n",
    "каждый символ в строке встречается только 1 раз, иначе должна вернуть false. Написать тесты для кода"
   ]
  },
  {
   "cell_type": "code",
   "execution_count": 3,
   "metadata": {
    "id": "FppbECao6VIz"
   },
   "outputs": [
    {
     "name": "stdout",
     "output_type": "stream",
     "text": [
      "True\n"
     ]
    }
   ],
   "source": [
    "def unic_words(s: str) -> bool:\n",
    "    unic = ''\n",
    "    for i in s:\n",
    "        if i not in unic:\n",
    "            unic += i\n",
    "        else:\n",
    "            return False\n",
    "    return True\n",
    "\n",
    "print(unic_words('ывтшщ'))"
   ]
  },
  {
   "cell_type": "markdown",
   "metadata": {
    "id": "udRiIK1cdt6E"
   },
   "source": [
    "# Задача 3\n",
    "Написать функцию, которая принимает положительное число и возвращает количество\n",
    "бит равных 1 в этом числе. Написать тесты для кода"
   ]
  },
  {
   "cell_type": "code",
   "execution_count": 4,
   "metadata": {
    "id": "6tkfDJRz6dp_"
   },
   "outputs": [
    {
     "name": "stdout",
     "output_type": "stream",
     "text": [
      "2\n"
     ]
    }
   ],
   "source": [
    "def count_set_bits(number: int):\n",
    "    count = 0\n",
    "    while number:\n",
    "        count += number & 1\n",
    "        number >>= 1\n",
    "    return count\n",
    "print(count_set_bits(5))"
   ]
  },
  {
   "cell_type": "markdown",
   "metadata": {
    "id": "26dDUz-Ae17N"
   },
   "source": [
    "# Задача 4\n",
    "Написать функцию, которая принимает положительное число. Функция должна вернуть то,\n",
    "сколько раз необходимо перемножать цифры числа или результат перемножения, чтобы\n",
    "получилось число состоящее из одной цифры.\n",
    "Например, для входного числа:\n",
    "· 39 функция должна вернуть 3, так как 3*9=27 => 2*7=14 => 1*4=4\n",
    "· 4 функция должна вернуть 0, так как число уже состоит из одной цифры\n",
    "· 999 функция должна вернуть 4, так как 9*9*9=729 => 7*2*9=126 => 1*2*6=12 =>\n",
    "1*2=2. Написать тесты для кода"
   ]
  },
  {
   "cell_type": "code",
   "execution_count": 4,
   "metadata": {
    "id": "BH1A_Mgi6i4G"
   },
   "outputs": [
    {
     "name": "stdout",
     "output_type": "stream",
     "text": [
      "2\n"
     ]
    }
   ],
   "source": [
    "def magic(n):\n",
    "    if n < 10:\n",
    "        return n\n",
    "    else:\n",
    "        digits = [int(digit) for digit in str(n)]\n",
    "        product = 1\n",
    "        for digit in digits:\n",
    "            product *= digit\n",
    "        return magic(product)\n",
    "print(magic(999))"
   ]
  },
  {
   "cell_type": "markdown",
   "metadata": {
    "id": "0nS-kIa8g8vd"
   },
   "source": [
    "# Задача 5\n",
    "Написать функцию, которая принимает два целочисленных вектора одинаковой длины и\n",
    "возвращает среднеквадратическое отклонение двух векторов. Написать тесты для кода"
   ]
  },
  {
   "cell_type": "code",
   "execution_count": 7,
   "metadata": {
    "id": "8iphx4LM6xbx"
   },
   "outputs": [
    {
     "name": "stdout",
     "output_type": "stream",
     "text": [
      "0.0\n",
      "3.3166247903554\n"
     ]
    }
   ],
   "source": [
    "import math\n",
    "def mse(pred, true):\n",
    "    differences = [x - y for x, y in zip(pred, true)]\n",
    "    variance = sum(d**2 for d in differences) / len(differences)\n",
    "    return math.sqrt(variance)\n",
    "\n",
    "vec1 = [1, 2, 3, 4, 5]\n",
    "vec2 = [2, 4, 6, 8, 10]\n",
    "print(mse([1, 2, 3, 4, 5],[1, 2, 3, 4, 5]))\n",
    "print(mse(vec1,vec2))"
   ]
  },
  {
   "cell_type": "markdown",
   "metadata": {
    "id": "vpIPKL439zkw"
   },
   "source": [
    "# Задача 6\n",
    "Написать функцию, принимающая целое положительное число. Функция должна вернуть\n",
    "строку вида “(n1^p1)(n2^p2)…(nk^pk)” представляющая разложение числа на простые\n",
    "множители (если pi == 1, то выводить только ni).\n",
    "Например, для числа 86240 функция должна вернуть “(2^5)(5)(7^2)(11)”. Написать тесты для кода"
   ]
  },
  {
   "cell_type": "code",
   "execution_count": 35,
   "metadata": {
    "id": "pFebmcZk94Jw"
   },
   "outputs": [
    {
     "name": "stdout",
     "output_type": "stream",
     "text": [
      "(2)(5^2)\n",
      "(2^3)(5^2)\n"
     ]
    }
   ],
   "source": [
    "def factorize(n: int) -> str:\n",
    "    factors = []\n",
    "    i = 2\n",
    "    while i * i <= n:\n",
    "        if n % i == 0:\n",
    "            count = 0\n",
    "            while n % i == 0:\n",
    "                count += 1\n",
    "                n //= i\n",
    "            factors.append((i, count))\n",
    "        i += 1\n",
    "    if n > 1:\n",
    "        factors.append((n, 1))\n",
    "    return \"\".join(f\"({num}^{power})\" if power > 1 else f\"({num})\" for num, power in factors)\n",
    "print(factorize(50))\n",
    "print(factorize(200))"
   ]
  },
  {
   "cell_type": "markdown",
   "metadata": {
    "id": "ps2s0BudX7A2"
   },
   "source": [
    "# Задача 7\n",
    "Написать функцию, принимающая целое число n, задающее количество кубиков. Функция\n",
    "должна определить, можно ли из данного кол-ва кубиков построить пирамиду, то есть\n",
    "можно ли представить число n как 1^2+2^2+3^2+…+k^2. Если можно, то функция должна\n",
    "вернуть k, иначе строку “It is impossible”. Написать тесты для кода"
   ]
  },
  {
   "cell_type": "code",
   "execution_count": 33,
   "metadata": {
    "id": "3YPjEXxhX_YT"
   },
   "outputs": [
    {
     "name": "stdout",
     "output_type": "stream",
     "text": [
      "It is impossible\n",
      "4\n",
      "It is impossible\n"
     ]
    }
   ],
   "source": [
    "def pyramid(number):\n",
    "    i = 0\n",
    "    while number > 0:\n",
    "        i += 1\n",
    "        number -= i ** 2\n",
    "    if number == 0:\n",
    "        return i\n",
    "    else:\n",
    "        return 'It is impossible'\n",
    "print(pyramid(3))\n",
    "print(pyramid(30))\n",
    "print(pyramid(999999999))"
   ]
  },
  {
   "cell_type": "markdown",
   "metadata": {
    "id": "KeKgmIdAQMEJ"
   },
   "source": [
    "# Задача 8\n",
    "Функция принимает на вход положительное число и определяет является ли оно сбалансированным, т.е. сумма цифр до средних равна сумме цифр после. Средними в случае нечетного числа цифр считать одну цифру, в случае четного - две средних. Написать тесты для кода."
   ]
  },
  {
   "cell_type": "code",
   "execution_count": 45,
   "metadata": {
    "id": "gMAAqtqlQrZt"
   },
   "outputs": [
    {
     "name": "stdout",
     "output_type": "stream",
     "text": [
      "True\n",
      "False\n"
     ]
    }
   ],
   "source": [
    "def is_balanced(num):\n",
    "    num_str = str(num)\n",
    "    length = len(num_str)\n",
    "    \n",
    "    if length % 2 == 0:\n",
    "        middle = length // 2\n",
    "        left_sum = sum(int(digit) for digit in num_str[:middle])\n",
    "        right_sum = sum(int(digit) for digit in num_str[middle:])\n",
    "    else:\n",
    "        middle = length // 2\n",
    "        left_sum = sum(int(digit) for digit in num_str[:middle])\n",
    "        right_sum = sum(int(digit) for digit in num_str[middle+1:])\n",
    "        \n",
    "    return left_sum == right_sum\n",
    "print(is_balanced(124421))\n",
    "print(is_balanced(1234))"
   ]
  },
  {
   "cell_type": "code",
   "execution_count": null,
   "metadata": {},
   "outputs": [],
   "source": []
  }
 ],
 "metadata": {
  "colab": {
   "provenance": []
  },
  "kernelspec": {
   "display_name": "Python 3 (ipykernel)",
   "language": "python",
   "name": "python3"
  },
  "language_info": {
   "codemirror_mode": {
    "name": "ipython",
    "version": 3
   },
   "file_extension": ".py",
   "mimetype": "text/x-python",
   "name": "python",
   "nbconvert_exporter": "python",
   "pygments_lexer": "ipython3",
   "version": "3.11.0"
  }
 },
 "nbformat": 4,
 "nbformat_minor": 4
}
