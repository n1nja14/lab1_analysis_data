{
 "cells": [
  {
   "cell_type": "markdown",
   "metadata": {
    "id": "vC84e9kzyxPy"
   },
   "source": [
    "<h1>Импорт библиотек"
   ]
  },
  {
   "cell_type": "code",
   "execution_count": 1,
   "metadata": {
    "id": "cgKeNegmQG5S"
   },
   "outputs": [],
   "source": [
    "import numpy as np\n",
    "import matplotlib.pyplot as plt"
   ]
  },
  {
   "cell_type": "markdown",
   "metadata": {
    "id": "qFM9uVU2x4Ls"
   },
   "source": [
    "<h1>Задача 1. Дан набор из $p$ матриц размерностью $(n, n)$ и $p$ векторов размерностью $(n, 1)$, найти сумму произведений матриц на векторы. Написать тесты для кода"
   ]
  },
  {
   "cell_type": "code",
   "execution_count": 2,
   "metadata": {
    "id": "IAbUvEiYyWFF"
   },
   "outputs": [
    {
     "name": "stdout",
     "output_type": "stream",
     "text": [
      "[[44]\n",
      " [64]]\n"
     ]
    }
   ],
   "source": [
    "def sum_prod(X, V):\n",
    "    result = np.zeros_like(V[0])\n",
    "    for matrix, vector in zip(X, V):\n",
    "        result += np.dot(matrix, vector)\n",
    "    return result\n",
    "\n",
    "\n",
    "X = [np.array([[1, 2], [3, 4]]), np.array([[5, 6], [7, 8]])]\n",
    "V = [np.array([[1], [2]]), np.array([[3], [4]])]\n",
    "print(sum_prod(X,V))"
   ]
  },
  {
   "cell_type": "markdown",
   "metadata": {
    "id": "TKwPG4fIy2w4"
   },
   "source": [
    "<h1>Задача 2. Дана матрица M, напишите функцию, которая бинаризует матрицу по некоторому threshold (то есть, все значения большие threshold становятся равными 1, иначе 0). Напишите тесты для кода"
   ]
  },
  {
   "cell_type": "code",
   "execution_count": 3,
   "metadata": {
    "id": "KQDNMgsjRNH7"
   },
   "outputs": [
    {
     "name": "stdout",
     "output_type": "stream",
     "text": [
      "[[1 1 1]\n",
      " [1 1 1]\n",
      " [1 1 1]]\n",
      "\n",
      "[[0. 0. 1.]\n",
      " [0. 1. 1.]\n",
      " [1. 1. 1.]]\n"
     ]
    }
   ],
   "source": [
    "def binarize(M: np.array, threshold=0.5):\n",
    "    size = M.shape\n",
    "    for i in range(size[0]):\n",
    "        for j in range(size[1]):\n",
    "            M[i][j] = 1 if M[i][j] > threshold else 0\n",
    "    return M\n",
    "print(binarize(np.array([[1,2,3],[2,3,4],[3,4,5]])))\n",
    "print()\n",
    "print(binarize(np.array([[1,0.1,3],[0.2,3,4],[3,4,5]]), 2))"
   ]
  },
  {
   "cell_type": "markdown",
   "metadata": {
    "id": "IY5L-h-7zWhN"
   },
   "source": [
    "<h1>Задача 3. Напишите функцию, которая возвращает уникальные элементы из каждой строки матрицы. Напишите такую же функцию, но для столбцов. Напишите тесты для кода"
   ]
  },
  {
   "cell_type": "code",
   "execution_count": 4,
   "metadata": {
    "id": "-8dEZhR0SBC-"
   },
   "outputs": [
    {
     "name": "stdout",
     "output_type": "stream",
     "text": [
      "[1. 4. 7. 2. 5. 8. 3. 6. 9.]\n",
      "\n",
      "[1. 2. 3. 2. 3. 4. 3. 4. 5.]\n",
      "\n",
      "[1. 7. 2. 5. 8. 1. 9.]\n",
      "\n",
      "[1. 3. 2. 4. 5. 4.]\n"
     ]
    }
   ],
   "source": [
    "def unique_rows(mat):\n",
    "    size = mat.shape\n",
    "    result = np.array([])\n",
    "    for i in range(size[0]):\n",
    "        res = []\n",
    "        for j in range(size[1]):\n",
    "            elem = mat[i,j]\n",
    "            if elem not in res:\n",
    "                res.append(elem)\n",
    "        result = np.append(result, np.array([res]))\n",
    "    return result\n",
    "        \n",
    "\n",
    "def unique_columns(mat):\n",
    "    size = mat.shape\n",
    "    result = np.array([])\n",
    "    for i in range(size[1]):\n",
    "        res = []\n",
    "        for j in range(size[0]):\n",
    "            elem = mat[j,i]\n",
    "            if elem not in res:\n",
    "                res.append(elem)\n",
    "        result = np.append(result, np.array([res]))\n",
    "    return result\n",
    "\n",
    "\n",
    "print(unique_columns(np.array([[1,2,3],[4,5,6],[7,8,9]])))\n",
    "print()\n",
    "print(unique_rows(np.array([[1,2,3],[2,3,4],[3,4,5]])))\n",
    "print()\n",
    "print(unique_columns(np.array([[1,2,1],[1,5,1],[7,8,9]])))\n",
    "print()\n",
    "print(unique_rows(np.array([[1,1,3],[2,4,4],[5,4,5]])))\n"
   ]
  },
  {
   "cell_type": "markdown",
   "metadata": {
    "id": "roYAlo4Jz-lH"
   },
   "source": [
    "<h1>Задача 4. Напишите функцию, которая заполняет матрицу с размерами $(m, n)$ случайными числами, распределенными по нормальному закону. Затем считает мат. ожидание и дисперсию для каждого из столбцов и строк, а также строит для каждой строки и столбца гистограмму значений (использовать функцию hist из модуля matplotlib.plot)"
   ]
  },
  {
   "cell_type": "code",
   "execution_count": 8,
   "metadata": {
    "id": "nZK_71hMSQzv"
   },
   "outputs": [
    {
     "name": "stdout",
     "output_type": "stream",
     "text": [
      "Средние значения по столбцам:\n",
      "[-0.17772242 -0.04187351 -0.07698504 -0.1991329 ]\n",
      "Дисперсии по столбцам:\n",
      "[1.46642453 2.06907937 1.77525058 0.00721289]\n",
      "Средние значения по строкам:\n",
      "[ 0.74236486 -0.96424327 -0.149907  ]\n",
      "Дисперсии по строкам:\n",
      "[0.53081024 0.72679044 1.28672152]\n"
     ]
    },
    {
     "data": {
      "image/png": "[encoded data removed]",
      "text/plain": [
       "<Figure size 1200x500 with 2 Axes>"
      ]
     },
     "metadata": {},
     "output_type": "display_data"
    },
    {
     "name": "stdout",
     "output_type": "stream",
     "text": [
      "[[ 1.33604351  0.39042961  1.52085635 -0.27787001]\n",
      " [-1.6281624  -1.97949379 -0.01100516 -0.23831172]\n",
      " [-0.24104836  1.46344366 -1.74080633 -0.08121698]]\n"
     ]
    }
   ],
   "source": [
    "def generate_normal_matrix(m, n):\n",
    "    matrix = np.random.normal(0, 1, (m, n))\n",
    "    \n",
    "    col_means = np.mean(matrix, axis=0)\n",
    "    col_variances = np.var(matrix, axis=0)\n",
    "\n",
    "    row_means = np.mean(matrix, axis=1)\n",
    "    row_variances = np.var(matrix, axis=1)\n",
    "\n",
    "    print(\"Средние значения по столбцам:\")\n",
    "    print(col_means)\n",
    "    print(\"Дисперсии по столбцам:\")\n",
    "    print(col_variances)\n",
    "\n",
    "    print(\"Средние значения по строкам:\")\n",
    "    print(row_means)\n",
    "    print(\"Дисперсии по строкам:\")\n",
    "    print(row_variances)\n",
    "\n",
    "    fig, (ax1, ax2) = plt.subplots(1, 2, figsize=(12, 5))\n",
    "\n",
    "    for i in range(n):\n",
    "        ax1.hist(matrix[:, i], bins=20, alpha=0.5, label=f\"Столбец {i}\")\n",
    "    ax1.set_title(\"Гистограммы столбцов\")\n",
    "    ax1.legend()\n",
    "\n",
    "    for i in range(m):\n",
    "        ax2.hist(matrix[i, :], bins=20, alpha=0.5, label=f\"Строка {i}\")\n",
    "    ax2.set_title(\"Гистограммы строк\")\n",
    "    ax2.legend()\n",
    "\n",
    "    plt.show()\n",
    "\n",
    "    return matrix\n",
    "\n",
    "print(generate_normal_matrix(3,4))"
   ]
  },
  {
   "cell_type": "markdown",
   "metadata": {
    "id": "BDyATNdM0dJ2"
   },
   "source": [
    "<h1>Задача 5. Напишите функцию, которая заполняет матрицу $(m, n)$ в шахматном порядке заданными числами $a$ и $b$. Напишите тесты для кода"
   ]
  },
  {
   "cell_type": "code",
   "execution_count": 10,
   "metadata": {
    "id": "RWNJYWQGecS6"
   },
   "outputs": [
    {
     "name": "stdout",
     "output_type": "stream",
     "text": [
      "[[10  2 10  2 10  2 10  2]\n",
      " [ 2 10  2 10  2 10  2 10]\n",
      " [10  2 10  2 10  2 10  2]\n",
      " [ 2 10  2 10  2 10  2 10]\n",
      " [10  2 10  2 10  2 10  2]\n",
      " [ 2 10  2 10  2 10  2 10]\n",
      " [10  2 10  2 10  2 10  2]\n",
      " [ 2 10  2 10  2 10  2 10]]\n"
     ]
    }
   ],
   "source": [
    "def chess(m, n, a, b):\n",
    "    matrix = np.zeros((m, n), dtype=int)\n",
    "    for i in range(m):\n",
    "        for j in range(n):\n",
    "            if (i + j) % 2 == 0:\n",
    "                matrix[i, j] = a\n",
    "            else:\n",
    "                matrix[i, j] = b\n",
    "    \n",
    "    return matrix\n",
    "\n",
    "print(chess(8,8,10,2))"
   ]
  },
  {
   "cell_type": "markdown",
   "metadata": {
    "id": "-ymXLtTN0vB6"
   },
   "source": [
    "<h1>Задача 6. Напишите функцию, которая отрисовывает прямоугольник с заданными размерами (a, b) на изображении размера (m, n), цвет фона задайте в схеме RGB, как и цвет прямоугольника. Цвета также должны быть параметрами функции. Напишите аналогичную функцию но для овала с полуосями a и b. Напишите тесты для кода.\n",
    "Примечание: уравнение эллипса (границы овала) можно записать как:\n",
    "<h1>$\\frac{(x-x_0)^2}{a^2}+\\frac{(y-y_0)^2}{b^2}=1$"
   ]
  },
  {
   "cell_type": "code",
   "execution_count": 14,
   "metadata": {
    "id": "sNfl1t_kfOF4"
   },
   "outputs": [
    {
     "name": "stdout",
     "output_type": "stream",
     "text": [
      "[[[255. 255. 255.]\n",
      "  [255. 255. 255.]\n",
      "  [255. 255. 255.]\n",
      "  ...\n",
      "  [255. 255. 255.]\n",
      "  [255. 255. 255.]\n",
      "  [255. 255. 255.]]\n",
      "\n",
      " [[255. 255. 255.]\n",
      "  [255. 255. 255.]\n",
      "  [255. 255. 255.]\n",
      "  ...\n",
      "  [255. 255. 255.]\n",
      "  [255. 255. 255.]\n",
      "  [255. 255. 255.]]\n",
      "\n",
      " [[255. 255. 255.]\n",
      "  [255. 255. 255.]\n",
      "  [255. 255. 255.]\n",
      "  ...\n",
      "  [255. 255. 255.]\n",
      "  [255. 255. 255.]\n",
      "  [255. 255. 255.]]\n",
      "\n",
      " ...\n",
      "\n",
      " [[255. 255. 255.]\n",
      "  [255. 255. 255.]\n",
      "  [255. 255. 255.]\n",
      "  ...\n",
      "  [255. 255. 255.]\n",
      "  [255. 255. 255.]\n",
      "  [255. 255. 255.]]\n",
      "\n",
      " [[255. 255. 255.]\n",
      "  [255. 255. 255.]\n",
      "  [255. 255. 255.]\n",
      "  ...\n",
      "  [255. 255. 255.]\n",
      "  [255. 255. 255.]\n",
      "  [255. 255. 255.]]\n",
      "\n",
      " [[255. 255. 255.]\n",
      "  [255. 255. 255.]\n",
      "  [255. 255. 255.]\n",
      "  ...\n",
      "  [255. 255. 255.]\n",
      "  [255. 255. 255.]\n",
      "  [255. 255. 255.]]]\n",
      "[[[128. 128. 128.]\n",
      "  [128. 128. 128.]\n",
      "  [128. 128. 128.]\n",
      "  ...\n",
      "  [128. 128. 128.]\n",
      "  [128. 128. 128.]\n",
      "  [128. 128. 128.]]\n",
      "\n",
      " [[128. 128. 128.]\n",
      "  [128. 128. 128.]\n",
      "  [128. 128. 128.]\n",
      "  ...\n",
      "  [128. 128. 128.]\n",
      "  [128. 128. 128.]\n",
      "  [128. 128. 128.]]\n",
      "\n",
      " [[128. 128. 128.]\n",
      "  [128. 128. 128.]\n",
      "  [128. 128. 128.]\n",
      "  ...\n",
      "  [128. 128. 128.]\n",
      "  [128. 128. 128.]\n",
      "  [128. 128. 128.]]\n",
      "\n",
      " ...\n",
      "\n",
      " [[128. 128. 128.]\n",
      "  [128. 128. 128.]\n",
      "  [128. 128. 128.]\n",
      "  ...\n",
      "  [128. 128. 128.]\n",
      "  [128. 128. 128.]\n",
      "  [128. 128. 128.]]\n",
      "\n",
      " [[128. 128. 128.]\n",
      "  [128. 128. 128.]\n",
      "  [128. 128. 128.]\n",
      "  ...\n",
      "  [128. 128. 128.]\n",
      "  [128. 128. 128.]\n",
      "  [128. 128. 128.]]\n",
      "\n",
      " [[128. 128. 128.]\n",
      "  [128. 128. 128.]\n",
      "  [128. 128. 128.]\n",
      "  ...\n",
      "  [128. 128. 128.]\n",
      "  [128. 128. 128.]\n",
      "  [128. 128. 128.]]]\n"
     ]
    }
   ],
   "source": [
    "def draw_rectangle(a, b, m, n, rectangle_color, background_color):\n",
    "    img = np.ones((n, m, 3)) * np.array(background_color)\n",
    "    \n",
    "    for i in range(m):\n",
    "        for j in range(n):\n",
    "            if i >= (m-a)//2 and i < (m+a)//2 and j >= (n-b)//2 and j < (n+b)//2:\n",
    "                img[j, i] = np.array(rectangle_color)\n",
    "    \n",
    "    return img\n",
    "\n",
    "def draw_ellipse(a, b, m, n, ellipse_color, background_color):\n",
    "    img = np.ones((n, m, 3)) * np.array(bg_color)\n",
    "    \n",
    "    for i in range(m):\n",
    "        for j in range(n):\n",
    "            if (i-m//2)*2/a*2 + (j-n//2)*2/b*2 <= 1:\n",
    "                img[j, i] = np.array(oval_color)\n",
    "    \n",
    "    return img\n"
   ]
  },
  {
   "cell_type": "markdown",
   "metadata": {
    "id": "S82c38oz244H"
   },
   "source": [
    "<h1>Задача 7. Дан некий временной ряд. Для данного ряда нужно найти его: математическое ожидание, дисперсию, СКО, найти все локальные максимумы и минимумы (локальный максимум - это точка, которая больше своих соседних точек, а локальный минимум - это точка, которая меньше своих соседей), а также вычислить для данного ряда другой ряд, получаемый методом скользящего среднего с размером окна $p$.\n",
    "<h1>Примечание: метод скользящего среднего подразумевает нахождение среднего из подмножетсва ряда размером $p$"
   ]
  },
  {
   "cell_type": "code",
   "execution_count": 15,
   "metadata": {
    "id": "Zb9mIVge5MMt"
   },
   "outputs": [
    {
     "name": "stdout",
     "output_type": "stream",
     "text": [
      "Математическое ожидание: 12.6\n",
      "Дисперсия: 9.239999999999998\n",
      "СКО: 3.0397368307141326\n",
      "Локальные максимумы: [15, 18, 16]\n",
      "Локальные минимумы: [8, 11, 9]\n",
      "Ряд, полученный методом скользящего среднего: [11.         11.66666667 12.66666667 14.66666667 14.33333333 13.66666667\n",
      " 12.         12.66666667]\n"
     ]
    }
   ],
   "source": [
    "time_series = [10, 15, 8, 12, 18, 14, 11, 16, 9, 13]\n",
    "\n",
    "mean = np.mean(time_series)\n",
    "print(f\"Математическое ожидание: {mean}\")\n",
    "\n",
    "\n",
    "variance = np.var(time_series)\n",
    "print(f\"Дисперсия: {variance}\")\n",
    "\n",
    "\n",
    "std_dev = np.sqrt(variance)\n",
    "print(f\"СКО: {std_dev}\")\n",
    "\n",
    "\n",
    "local_maxima = []\n",
    "local_minima = []\n",
    "for i in range(1, len(time_series) - 1):\n",
    "    if time_series[i] > time_series[i-1] and time_series[i] > time_series[i+1]:\n",
    "        local_maxima.append(time_series[i])\n",
    "    elif time_series[i] < time_series[i-1] and time_series[i] < time_series[i+1]:\n",
    "        local_minima.append(time_series[i])\n",
    "print(f\"Локальные максимумы: {local_maxima}\")\n",
    "print(f\"Локальные минимумы: {local_minima}\")\n",
    "\n",
    "\n",
    "p = 3 \n",
    "moving_average = np.convolve(time_series, np.ones(p), 'valid') / p\n",
    "print(f\"Ряд, полученный методом скользящего среднего: {moving_average}\")\n"
   ]
  },
  {
   "cell_type": "markdown",
   "metadata": {
    "id": "jPkylmOX5O9n"
   },
   "source": [
    "<h1> Задача 8. Дан некоторый вектор с целочисленными метками классов, напишите функцию, которая выполняет one-hot-encoding для данного вектора\n",
    "<h1> One-hot-encoding - представление, в котором на месте метки некоторого класса стоит 1, в остальных позициях стоит 0. Например для вектора [0, 2, 3, 0] one-hot-encoding выглядит как: [[1, 0, 0, 0], [0, 0, 1, 0], [0, 0, 0, 1], [1, 0, 0, 0]]"
   ]
  },
  {
   "cell_type": "code",
   "execution_count": 16,
   "metadata": {
    "id": "Y-jlnZvw56lD"
   },
   "outputs": [
    {
     "name": "stdout",
     "output_type": "stream",
     "text": [
      "[[1 0 0 0]\n",
      " [0 0 1 0]\n",
      " [0 0 0 1]\n",
      " [1 0 0 0]]\n"
     ]
    }
   ],
   "source": [
    "labels = [0, 2, 3, 0]\n",
    "num_classes = max(labels) + 1\n",
    "one_hot = np.zeros((len(labels), num_classes), dtype=int)\n",
    "one_hot[np.arange(len(labels)), labels] = 1\n",
    "\n",
    "print(one_hot)"
   ]
  },
  {
   "cell_type": "code",
   "execution_count": null,
   "metadata": {},
   "outputs": [],
   "source": []
  }
 ],
 "metadata": {
  "colab": {
   "provenance": []
  },
  "kernelspec": {
   "display_name": "Python 3 (ipykernel)",
   "language": "python",
   "name": "python3"
  },
  "language_info": {
   "codemirror_mode": {
    "name": "ipython",
    "version": 3
   },
   "file_extension": ".py",
   "mimetype": "text/x-python",
   "name": "python",
   "nbconvert_exporter": "python",
   "pygments_lexer": "ipython3",
   "version": "3.11.0"
  }
 },
 "nbformat": 4,
 "nbformat_minor": 4
}
